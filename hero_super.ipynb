{
 "cells": [
  {
   "cell_type": "code",
   "execution_count": 158,
   "id": "2daacdc2-a062-43d0-acd4-cd4d8eeaf320",
   "metadata": {
    "id": "2daacdc2-a062-43d0-acd4-cd4d8eeaf320",
    "tags": []
   },
   "outputs": [],
   "source": [
    "import pandas as pd\n",
    "import re\n",
    "import string, sys, time\n",
    "from nltk.stem import PorterStemmer\n",
    "from stop_words import get_stop_words\n",
    "from nltk.tokenize import RegexpTokenizer\n",
    "from nltk.stem import WordNetLemmatizer "
   ]
  },
  {
   "cell_type": "code",
   "execution_count": 159,
   "id": "d52ad405-4671-4352-a6d1-6d054f7027b3",
   "metadata": {},
   "outputs": [
    {
     "name": "stderr",
     "output_type": "stream",
     "text": [
      "[nltk_data] Downloading package punkt to\n",
      "[nltk_data]     C:\\Users\\amits\\AppData\\Roaming\\nltk_data...\n",
      "[nltk_data]   Package punkt is already up-to-date!\n"
     ]
    },
    {
     "data": {
      "text/plain": [
       "True"
      ]
     },
     "execution_count": 159,
     "metadata": {},
     "output_type": "execute_result"
    }
   ],
   "source": [
    "import nltk\n",
    "nltk.download('punkt')\n"
   ]
  },
  {
   "cell_type": "code",
   "execution_count": 160,
   "id": "62ca84d8-a1ab-417c-800d-48957d6fe378",
   "metadata": {
    "id": "62ca84d8-a1ab-417c-800d-48957d6fe378"
   },
   "outputs": [],
   "source": [
    "Dframe=pd.read_csv('superheroes_nlp_dataset.csv')"
   ]
  },
  {
   "cell_type": "code",
   "execution_count": 161,
   "id": "bUBXmXS-dnoy",
   "metadata": {
    "colab": {
     "base_uri": "https://localhost:8080/"
    },
    "id": "bUBXmXS-dnoy",
    "outputId": "9741a582-3458-4026-eefd-84c8bfd901cb"
   },
   "outputs": [
    {
     "data": {
      "text/plain": [
       "Index(['name', 'real_name', 'full_name', 'overall_score', 'history_text',\n",
       "       'powers_text', 'intelligence_score', 'strength_score', 'speed_score',\n",
       "       'durability_score', 'power_score', 'combat_score', 'superpowers',\n",
       "       'alter_egos', 'aliases', 'place_of_birth', 'first_appearance',\n",
       "       'creator', 'alignment', 'occupation', 'base', 'teams', 'relatives',\n",
       "       'gender', 'type_race', 'height', 'weight', 'eye_color', 'hair_color',\n",
       "       'skin_color', 'img', 'has_electrokinesis', 'has_energy_constructs',\n",
       "       'has_mind_control_resistance', 'has_matter_manipulation',\n",
       "       'has_telepathy_resistance', 'has_mind_control', 'has_enhanced_hearing',\n",
       "       'has_dimensional_travel', 'has_element_control', 'has_size_changing',\n",
       "       'has_fire_resistance', 'has_fire_control', 'has_dexterity',\n",
       "       'has_reality_warping', 'has_illusions', 'has_energy_beams',\n",
       "       'has_peak_human_condition', 'has_shapeshifting', 'has_heat_resistance',\n",
       "       'has_jump', 'has_self-sustenance', 'has_energy_absorption',\n",
       "       'has_cold_resistance', 'has_magic', 'has_telekinesis',\n",
       "       'has_toxin_and_disease_resistance', 'has_telepathy', 'has_regeneration',\n",
       "       'has_immortality', 'has_teleportation', 'has_force_fields',\n",
       "       'has_energy_manipulation', 'has_endurance', 'has_longevity',\n",
       "       'has_weapon-based_powers', 'has_energy_blasts', 'has_enhanced_senses',\n",
       "       'has_invulnerability', 'has_stealth', 'has_marksmanship', 'has_flight',\n",
       "       'has_accelerated_healing', 'has_weapons_master', 'has_intelligence',\n",
       "       'has_reflexes', 'has_super_speed', 'has_durability', 'has_stamina',\n",
       "       'has_agility', 'has_super_strength'],\n",
       "      dtype='object')"
      ]
     },
     "execution_count": 161,
     "metadata": {},
     "output_type": "execute_result"
    }
   ],
   "source": [
    "Dframe.columns"
   ]
  },
  {
   "cell_type": "code",
   "execution_count": 162,
   "id": "15e65232-4957-492f-b6d0-ffbb161daff3",
   "metadata": {
    "id": "15e65232-4957-492f-b6d0-ffbb161daff3"
   },
   "outputs": [],
   "source": [
    "Dframe1=pd.DataFrame(Dframe, columns=['history_text','powers_text','superpowers','aliases','alter_egos','creator','real_name', 'full_name', 'name'])"
   ]
  },
  {
   "cell_type": "code",
   "execution_count": 163,
   "id": "fa9ab508-899b-4567-9dd8-cc0b2e29c5b3",
   "metadata": {},
   "outputs": [],
   "source": [
    "Dframe1.fillna('', inplace=True)"
   ]
  },
  {
   "cell_type": "code",
   "execution_count": 164,
   "id": "epBCYU8LgISg",
   "metadata": {
    "id": "epBCYU8LgISg"
   },
   "outputs": [],
   "source": [
    "Dframe1['description'] = Dframe1['name']"
   ]
  },
  {
   "cell_type": "code",
   "execution_count": 165,
   "id": "30bd8d38-e95a-4a07-bf81-89e0fdc53915",
   "metadata": {},
   "outputs": [
    {
     "data": {
      "text/html": [
       "<div>\n",
       "<style scoped>\n",
       "    .dataframe tbody tr th:only-of-type {\n",
       "        vertical-align: middle;\n",
       "    }\n",
       "\n",
       "    .dataframe tbody tr th {\n",
       "        vertical-align: top;\n",
       "    }\n",
       "\n",
       "    .dataframe thead th {\n",
       "        text-align: right;\n",
       "    }\n",
       "</style>\n",
       "<table border=\"1\" class=\"dataframe\">\n",
       "  <thead>\n",
       "    <tr style=\"text-align: right;\">\n",
       "      <th></th>\n",
       "      <th>history_text</th>\n",
       "      <th>powers_text</th>\n",
       "      <th>superpowers</th>\n",
       "      <th>aliases</th>\n",
       "      <th>alter_egos</th>\n",
       "      <th>creator</th>\n",
       "      <th>real_name</th>\n",
       "      <th>full_name</th>\n",
       "      <th>name</th>\n",
       "      <th>description</th>\n",
       "    </tr>\n",
       "  </thead>\n",
       "  <tbody>\n",
       "    <tr>\n",
       "      <th>0</th>\n",
       "      <td>Delroy Garrett, Jr. grew up to become a track ...</td>\n",
       "      <td></td>\n",
       "      <td>['Super Speed', 'Super Strength']</td>\n",
       "      <td>['']</td>\n",
       "      <td>[]</td>\n",
       "      <td>Marvel Comics</td>\n",
       "      <td>Delroy Garrett, Jr.</td>\n",
       "      <td>Delroy Garrett, Jr.</td>\n",
       "      <td>3-D Man</td>\n",
       "      <td>3-D Man</td>\n",
       "    </tr>\n",
       "    <tr>\n",
       "      <th>1</th>\n",
       "      <td>He was one of the many prisoners of Indian Hil...</td>\n",
       "      <td></td>\n",
       "      <td>['Durability', 'Reflexes', 'Super Strength']</td>\n",
       "      <td>['Subject 514A', 'Bruce Wayne', 'Bruce 2']</td>\n",
       "      <td>['Batgod', 'Batman', 'Batman (1966)', 'Batman ...</td>\n",
       "      <td>DC Comics</td>\n",
       "      <td>Bruce Wayne</td>\n",
       "      <td></td>\n",
       "      <td>514A (Gotham)</td>\n",
       "      <td>514A (Gotham)</td>\n",
       "    </tr>\n",
       "    <tr>\n",
       "      <th>2</th>\n",
       "      <td>Richard \"Rick\" Jones was orphaned at a young ...</td>\n",
       "      <td>On rare occasions, and through unusual circu...</td>\n",
       "      <td>['Accelerated Healing', 'Agility', 'Berserk Mo...</td>\n",
       "      <td>['Rick Jones']</td>\n",
       "      <td>[]</td>\n",
       "      <td>Marvel Comics</td>\n",
       "      <td>Richard Milhouse Jones</td>\n",
       "      <td>Richard Milhouse Jones</td>\n",
       "      <td>A-Bomb</td>\n",
       "      <td>A-Bomb</td>\n",
       "    </tr>\n",
       "    <tr>\n",
       "      <th>3</th>\n",
       "      <td>Aa is one of the more passive members of the P...</td>\n",
       "      <td></td>\n",
       "      <td>['Energy Absorption', 'Energy Armor', 'Energy ...</td>\n",
       "      <td>['']</td>\n",
       "      <td>[]</td>\n",
       "      <td>DC Comics</td>\n",
       "      <td>Aa</td>\n",
       "      <td></td>\n",
       "      <td>Aa</td>\n",
       "      <td>Aa</td>\n",
       "    </tr>\n",
       "    <tr>\n",
       "      <th>4</th>\n",
       "      <td>Aaron Cash is the head of security at Arkham A...</td>\n",
       "      <td></td>\n",
       "      <td>['Weapon-based Powers', 'Weapons Master']</td>\n",
       "      <td>['']</td>\n",
       "      <td>[]</td>\n",
       "      <td>DC Comics</td>\n",
       "      <td>Aaron Cash</td>\n",
       "      <td>Aaron Cash</td>\n",
       "      <td>Aaron Cash</td>\n",
       "      <td>Aaron Cash</td>\n",
       "    </tr>\n",
       "  </tbody>\n",
       "</table>\n",
       "</div>"
      ],
      "text/plain": [
       "                                        history_text  \\\n",
       "0  Delroy Garrett, Jr. grew up to become a track ...   \n",
       "1  He was one of the many prisoners of Indian Hil...   \n",
       "2   Richard \"Rick\" Jones was orphaned at a young ...   \n",
       "3  Aa is one of the more passive members of the P...   \n",
       "4  Aaron Cash is the head of security at Arkham A...   \n",
       "\n",
       "                                         powers_text  \\\n",
       "0                                                      \n",
       "1                                                      \n",
       "2    On rare occasions, and through unusual circu...   \n",
       "3                                                      \n",
       "4                                                      \n",
       "\n",
       "                                         superpowers  \\\n",
       "0                  ['Super Speed', 'Super Strength']   \n",
       "1       ['Durability', 'Reflexes', 'Super Strength']   \n",
       "2  ['Accelerated Healing', 'Agility', 'Berserk Mo...   \n",
       "3  ['Energy Absorption', 'Energy Armor', 'Energy ...   \n",
       "4          ['Weapon-based Powers', 'Weapons Master']   \n",
       "\n",
       "                                      aliases  \\\n",
       "0                                        ['']   \n",
       "1  ['Subject 514A', 'Bruce Wayne', 'Bruce 2']   \n",
       "2                              ['Rick Jones']   \n",
       "3                                        ['']   \n",
       "4                                        ['']   \n",
       "\n",
       "                                          alter_egos        creator  \\\n",
       "0                                                 []  Marvel Comics   \n",
       "1  ['Batgod', 'Batman', 'Batman (1966)', 'Batman ...      DC Comics   \n",
       "2                                                 []  Marvel Comics   \n",
       "3                                                 []      DC Comics   \n",
       "4                                                 []      DC Comics   \n",
       "\n",
       "                real_name               full_name           name  \\\n",
       "0     Delroy Garrett, Jr.     Delroy Garrett, Jr.        3-D Man   \n",
       "1             Bruce Wayne                          514A (Gotham)   \n",
       "2  Richard Milhouse Jones  Richard Milhouse Jones         A-Bomb   \n",
       "3                      Aa                                     Aa   \n",
       "4              Aaron Cash              Aaron Cash     Aaron Cash   \n",
       "\n",
       "     description  \n",
       "0        3-D Man  \n",
       "1  514A (Gotham)  \n",
       "2         A-Bomb  \n",
       "3             Aa  \n",
       "4     Aaron Cash  "
      ]
     },
     "execution_count": 165,
     "metadata": {},
     "output_type": "execute_result"
    }
   ],
   "source": [
    "Dframe1.head()"
   ]
  },
  {
   "cell_type": "code",
   "execution_count": 166,
   "id": "CaEE72i2eb5q",
   "metadata": {
    "id": "CaEE72i2eb5q"
   },
   "outputs": [],
   "source": [
    " Dframe1[\"description\"]= Dframe1[\"description\"].str.cat(Dframe1[['history_text','powers_text','superpowers','aliases','alter_egos','creator','real_name', 'full_name']].astype(str), sep=\" \")"
   ]
  },
  {
   "cell_type": "code",
   "execution_count": 167,
   "id": "6ca4fc66-c713-451f-8829-206ae92d1453",
   "metadata": {
    "id": "6ca4fc66-c713-451f-8829-206ae92d1453"
   },
   "outputs": [],
   "source": [
    "Dframe1=Dframe1.drop(labels=['history_text','powers_text','superpowers','aliases','alter_egos','creator','real_name', 'full_name'], axis=1)"
   ]
  },
  {
   "cell_type": "code",
   "execution_count": 168,
   "id": "QJY8rRSdah5u",
   "metadata": {
    "colab": {
     "base_uri": "https://localhost:8080/",
     "height": 206
    },
    "id": "QJY8rRSdah5u",
    "outputId": "3c88c5bf-1fb1-4445-e6cc-43e88498cd93"
   },
   "outputs": [
    {
     "data": {
      "text/html": [
       "<div>\n",
       "<style scoped>\n",
       "    .dataframe tbody tr th:only-of-type {\n",
       "        vertical-align: middle;\n",
       "    }\n",
       "\n",
       "    .dataframe tbody tr th {\n",
       "        vertical-align: top;\n",
       "    }\n",
       "\n",
       "    .dataframe thead th {\n",
       "        text-align: right;\n",
       "    }\n",
       "</style>\n",
       "<table border=\"1\" class=\"dataframe\">\n",
       "  <thead>\n",
       "    <tr style=\"text-align: right;\">\n",
       "      <th></th>\n",
       "      <th>name</th>\n",
       "      <th>description</th>\n",
       "    </tr>\n",
       "  </thead>\n",
       "  <tbody>\n",
       "    <tr>\n",
       "      <th>0</th>\n",
       "      <td>3-D Man</td>\n",
       "      <td>3-D Man Delroy Garrett, Jr. grew up to become ...</td>\n",
       "    </tr>\n",
       "    <tr>\n",
       "      <th>1</th>\n",
       "      <td>514A (Gotham)</td>\n",
       "      <td>514A (Gotham) He was one of the many prisoners...</td>\n",
       "    </tr>\n",
       "    <tr>\n",
       "      <th>2</th>\n",
       "      <td>A-Bomb</td>\n",
       "      <td>A-Bomb  Richard \"Rick\" Jones was orphaned at a...</td>\n",
       "    </tr>\n",
       "    <tr>\n",
       "      <th>3</th>\n",
       "      <td>Aa</td>\n",
       "      <td>Aa Aa is one of the more passive members of th...</td>\n",
       "    </tr>\n",
       "    <tr>\n",
       "      <th>4</th>\n",
       "      <td>Aaron Cash</td>\n",
       "      <td>Aaron Cash Aaron Cash is the head of security ...</td>\n",
       "    </tr>\n",
       "  </tbody>\n",
       "</table>\n",
       "</div>"
      ],
      "text/plain": [
       "            name                                        description\n",
       "0        3-D Man  3-D Man Delroy Garrett, Jr. grew up to become ...\n",
       "1  514A (Gotham)  514A (Gotham) He was one of the many prisoners...\n",
       "2         A-Bomb  A-Bomb  Richard \"Rick\" Jones was orphaned at a...\n",
       "3             Aa  Aa Aa is one of the more passive members of th...\n",
       "4     Aaron Cash  Aaron Cash Aaron Cash is the head of security ..."
      ]
     },
     "execution_count": 168,
     "metadata": {},
     "output_type": "execute_result"
    }
   ],
   "source": [
    "Dframe1.head()"
   ]
  },
  {
   "cell_type": "code",
   "execution_count": 169,
   "id": "4971886e-218a-494d-a810-6dcaf39eebdf",
   "metadata": {},
   "outputs": [],
   "source": [
    "Dframe1.to_csv('nm_desc.csv')"
   ]
  },
  {
   "cell_type": "code",
   "execution_count": 153,
   "id": "9e2dc2e2-a144-4ba4-ab47-564818bb0949",
   "metadata": {
    "id": "9e2dc2e2-a144-4ba4-ab47-564818bb0949"
   },
   "outputs": [],
   "source": [
    "Dframe1=Dframe1.dropna()"
   ]
  },
  {
   "cell_type": "code",
   "execution_count": 154,
   "id": "maKFiR0yhuf0",
   "metadata": {
    "colab": {
     "base_uri": "https://localhost:8080/"
    },
    "id": "maKFiR0yhuf0",
    "outputId": "1a9531c0-c880-427a-df8c-461ca4b43b8c"
   },
   "outputs": [
    {
     "data": {
      "text/plain": [
       "0"
      ]
     },
     "execution_count": 154,
     "metadata": {},
     "output_type": "execute_result"
    }
   ],
   "source": [
    "Dframe1.name.isna().sum()"
   ]
  },
  {
   "cell_type": "code",
   "execution_count": 109,
   "id": "qH2xuBfgiBH1",
   "metadata": {
    "colab": {
     "base_uri": "https://localhost:8080/"
    },
    "id": "qH2xuBfgiBH1",
    "outputId": "3d5a3ff4-8adb-482a-eb90-5c90eec7da84"
   },
   "outputs": [
    {
     "data": {
      "text/plain": [
       "(1450, 2)"
      ]
     },
     "execution_count": 109,
     "metadata": {},
     "output_type": "execute_result"
    }
   ],
   "source": [
    "Dframe1.shape"
   ]
  },
  {
   "cell_type": "code",
   "execution_count": 110,
   "id": "7v0gqxrZhoI1",
   "metadata": {
    "colab": {
     "base_uri": "https://localhost:8080/"
    },
    "id": "7v0gqxrZhoI1",
    "outputId": "00438529-77ab-4532-9406-15a3f6591a29"
   },
   "outputs": [
    {
     "data": {
      "text/plain": [
       "(1450, 81)"
      ]
     },
     "execution_count": 110,
     "metadata": {},
     "output_type": "execute_result"
    }
   ],
   "source": [
    "Dframe.shape"
   ]
  },
  {
   "cell_type": "code",
   "execution_count": 111,
   "id": "4f6dc84a-30e0-4eda-aff0-cc263180fc7e",
   "metadata": {
    "id": "4f6dc84a-30e0-4eda-aff0-cc263180fc7e"
   },
   "outputs": [],
   "source": [
    "def cleaning1(inpdata):\n",
    "    cleanedArticle1=re.sub(r'[?|$|(),\"\".@#=><|!]Â&*/',r' ',inpdata)\n",
    "    cleanedArticle2=re.sub(r'[^a-z A-Z]',r' ',cleanedArticle1)\n",
    "    cleanedArticle3=cleanedArticle2.lower()\n",
    "    cleanedArticle4=re.sub(r'\\b\\w{1,3}\\b', ' ',cleanedArticle3)\n",
    "    cleanedArticle5=re.sub(r'https?://\\S+|www\\.\\S+',r' ',cleanedArticle4)\n",
    "    cleanedArticle6=re.sub(r' +', ' ',cleanedArticle5)\n",
    "    return(cleanedArticle6)"
   ]
  },
  {
   "cell_type": "code",
   "execution_count": 112,
   "id": "9032f495-1e79-412b-8682-b511dcd3f75a",
   "metadata": {
    "id": "9032f495-1e79-412b-8682-b511dcd3f75a"
   },
   "outputs": [],
   "source": [
    "Dframe1['description']=Dframe1['description'].apply(cleaning1)"
   ]
  },
  {
   "cell_type": "code",
   "execution_count": 113,
   "id": "fbc660f6-e77b-4ea8-b119-013493772252",
   "metadata": {},
   "outputs": [
    {
     "data": {
      "text/html": [
       "<div>\n",
       "<style scoped>\n",
       "    .dataframe tbody tr th:only-of-type {\n",
       "        vertical-align: middle;\n",
       "    }\n",
       "\n",
       "    .dataframe tbody tr th {\n",
       "        vertical-align: top;\n",
       "    }\n",
       "\n",
       "    .dataframe thead th {\n",
       "        text-align: right;\n",
       "    }\n",
       "</style>\n",
       "<table border=\"1\" class=\"dataframe\">\n",
       "  <thead>\n",
       "    <tr style=\"text-align: right;\">\n",
       "      <th></th>\n",
       "      <th>name</th>\n",
       "      <th>description</th>\n",
       "    </tr>\n",
       "  </thead>\n",
       "  <tbody>\n",
       "    <tr>\n",
       "      <th>0</th>\n",
       "      <td>3-D Man</td>\n",
       "      <td>delroy garrett grew become track star compete...</td>\n",
       "    </tr>\n",
       "    <tr>\n",
       "      <th>1</th>\n",
       "      <td>514A (Gotham)</td>\n",
       "      <td>gotham many prisoners indian hill transferred...</td>\n",
       "    </tr>\n",
       "    <tr>\n",
       "      <th>2</th>\n",
       "      <td>A-Bomb</td>\n",
       "      <td>bomb richard rick jones orphaned young after ...</td>\n",
       "    </tr>\n",
       "    <tr>\n",
       "      <th>3</th>\n",
       "      <td>Aa</td>\n",
       "      <td>more passive members pumice people race stone...</td>\n",
       "    </tr>\n",
       "    <tr>\n",
       "      <th>4</th>\n",
       "      <td>Aaron Cash</td>\n",
       "      <td>aaron cash aaron cash head security arkham asy...</td>\n",
       "    </tr>\n",
       "  </tbody>\n",
       "</table>\n",
       "</div>"
      ],
      "text/plain": [
       "            name                                        description\n",
       "0        3-D Man   delroy garrett grew become track star compete...\n",
       "1  514A (Gotham)   gotham many prisoners indian hill transferred...\n",
       "2         A-Bomb   bomb richard rick jones orphaned young after ...\n",
       "3             Aa   more passive members pumice people race stone...\n",
       "4     Aaron Cash  aaron cash aaron cash head security arkham asy..."
      ]
     },
     "execution_count": 113,
     "metadata": {},
     "output_type": "execute_result"
    }
   ],
   "source": [
    "Dframe1.head()"
   ]
  },
  {
   "cell_type": "code",
   "execution_count": 114,
   "id": "9TJiD8_GXpxi",
   "metadata": {
    "id": "9TJiD8_GXpxi"
   },
   "outputs": [],
   "source": [
    "sc = sys.stdout "
   ]
  },
  {
   "cell_type": "code",
   "execution_count": 116,
   "id": "53d18839-6708-41c8-9499-8e02dd066841",
   "metadata": {},
   "outputs": [],
   "source": [
    "en_stop = get_stop_words('en')\n",
    "ps = PorterStemmer()\n",
    "LM=WordNetLemmatizer()"
   ]
  },
  {
   "cell_type": "code",
   "execution_count": 131,
   "id": "Hp8Y5KPJ4Fnw",
   "metadata": {
    "id": "Hp8Y5KPJ4Fnw"
   },
   "outputs": [],
   "source": [
    "ip = 'hammer thunder lightening strong god of thunder'"
   ]
  },
  {
   "cell_type": "code",
   "execution_count": 132,
   "id": "28d5aff3-c84b-4254-b0b3-12f0514cbb6e",
   "metadata": {},
   "outputs": [],
   "source": [
    "def Token_new1(inpdata):\n",
    "    tokenizer = RegexpTokenizer(r'\\w+')\n",
    "    tokens = tokenizer.tokenize(inpdata)\n",
    "    stopped_tokens = [i for i in tokens if not i in en_stop]\n",
    "    porter_stem=[ps.stem(word) for word in stopped_tokens]\n",
    "    lemm=[LM.lemmatize(word) for word in stopped_tokens]    \n",
    "    return(porter_stem+lemm)"
   ]
  },
  {
   "cell_type": "code",
   "execution_count": 133,
   "id": "M-NQF-IN7pgH",
   "metadata": {
    "id": "M-NQF-IN7pgH"
   },
   "outputs": [],
   "source": [
    "ip_tok = set(Token_new1(ip))"
   ]
  },
  {
   "cell_type": "code",
   "execution_count": 134,
   "id": "pnFpIs4xWc-4",
   "metadata": {
    "colab": {
     "base_uri": "https://localhost:8080/"
    },
    "id": "pnFpIs4xWc-4",
    "outputId": "5d1319b3-8a07-4e63-f8ad-33d8476b4cbd"
   },
   "outputs": [
    {
     "name": "stdout",
     "output_type": "stream",
     "text": [
      " 1450"
     ]
    }
   ],
   "source": [
    "i = 0\n",
    "counts = []\n",
    "for txt in Dframe1['description']:\n",
    "    j=0\n",
    "    for pat in ip_tok:\n",
    "        match = re.findall(pat, txt) \n",
    "        j+=len(match)\n",
    "    counts.append(j)\n",
    "    i +=1\n",
    "    sc.write(f'\\r {i}')\n",
    "  # break"
   ]
  },
  {
   "cell_type": "code",
   "execution_count": 135,
   "id": "e79ffa49-20f3-4b06-872c-f33c503d36a1",
   "metadata": {},
   "outputs": [],
   "source": [
    "def argsort(seq):\n",
    "    return [x for x,y in sorted(enumerate(seq), key = lambda x: x[1])]\n"
   ]
  },
  {
   "cell_type": "code",
   "execution_count": 173,
   "id": "c2150c9e-9b04-4fbc-b43b-6d969fc6f9a6",
   "metadata": {},
   "outputs": [],
   "source": [
    "args =argsort(counts)[-10:]"
   ]
  },
  {
   "cell_type": "code",
   "execution_count": 174,
   "id": "97477913-22de-47bf-8eb4-4134786ebaab",
   "metadata": {},
   "outputs": [
    {
     "name": "stdout",
     "output_type": "stream",
     "text": [
      "80\n",
      "51\n",
      "31\n",
      "20\n",
      "18\n",
      "18\n",
      "18\n",
      "18\n",
      "17\n",
      "16\n"
     ]
    }
   ],
   "source": [
    "for i in args[::-1]:\n",
    "    print(counts[i])"
   ]
  },
  {
   "cell_type": "code",
   "execution_count": 175,
   "id": "fc2a34cc-5bdc-4b17-82bd-d914fba337f4",
   "metadata": {},
   "outputs": [
    {
     "name": "stdout",
     "output_type": "stream",
     "text": [
      "Shin Godzilla\n",
      "Wonder Woman\n",
      "Baron Zemo\n",
      "Moonstone\n",
      "Thor (Odin Force)\n",
      "Storm\n",
      "Iron Man\n",
      "Barb Wire\n",
      "Blizzard II\n",
      "Ronin\n"
     ]
    }
   ],
   "source": [
    "for i in args[::-1]:\n",
    "    print(Dframe1['name'][i])"
   ]
  },
  {
   "cell_type": "code",
   "execution_count": null,
   "id": "37b3be8c-b019-4f89-bc24-40c7f9dfdf82",
   "metadata": {},
   "outputs": [],
   "source": []
  }
 ],
 "metadata": {
  "accelerator": "GPU",
  "colab": {
   "collapsed_sections": [],
   "name": "cosine.ipynb",
   "provenance": []
  },
  "gpuClass": "standard",
  "kernelspec": {
   "display_name": "Python 3 (ipykernel)",
   "language": "python",
   "name": "python3"
  },
  "language_info": {
   "codemirror_mode": {
    "name": "ipython",
    "version": 3
   },
   "file_extension": ".py",
   "mimetype": "text/x-python",
   "name": "python",
   "nbconvert_exporter": "python",
   "pygments_lexer": "ipython3",
   "version": "3.7.9"
  }
 },
 "nbformat": 4,
 "nbformat_minor": 5
}
